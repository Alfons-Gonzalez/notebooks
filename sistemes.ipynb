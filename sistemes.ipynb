{
 "cells": [
  {
   "cell_type": "markdown",
   "metadata": {},
   "source": [
    "## Python i Sistemes"
   ]
  },
  {
   "cell_type": "markdown",
   "metadata": {},
   "source": [
    "## tar"
   ]
  },
  {
   "cell_type": "code",
   "execution_count": 23,
   "metadata": {},
   "outputs": [
    {
     "name": "stdout",
     "output_type": "stream",
     "text": [
      "Basics.ipynb  fabfile.py   lacasadepapel.txt  sistemes.ipynb\r\n",
      "data.txt      grafic1.png  matplotlib.ipynb\r\n"
     ]
    }
   ],
   "source": [
    "!ls"
   ]
  },
  {
   "cell_type": "code",
   "execution_count": 24,
   "metadata": {},
   "outputs": [],
   "source": [
    "import tarfile\n",
    "tar = tarfile.open(\"exemple-matplotlib.tar\", \"w\")\n",
    "for name in [\"matplotlib.ipynb\", \"data.txt\", \"grafic1.png\"]:\n",
    "    tar.add(name)\n",
    "tar.close()"
   ]
  },
  {
   "cell_type": "code",
   "execution_count": 26,
   "metadata": {},
   "outputs": [
    {
     "name": "stdout",
     "output_type": "stream",
     "text": [
      "Basics.ipynb  exemple-matplotlib.tar  lacasadepapel.txt  sistemes.ipynb\r\n",
      "data.txt      grafic1.png\t      matplotlib.ipynb\r\n"
     ]
    }
   ],
   "source": [
    "!ls"
   ]
  },
  {
   "cell_type": "code",
   "execution_count": 27,
   "metadata": {},
   "outputs": [
    {
     "name": "stdout",
     "output_type": "stream",
     "text": [
      "-rw-rw-r-- alfons/alfons 321603 2019-11-22 10:28 matplotlib.ipynb\r\n",
      "-rw-rw-r-- alfons/alfons   5000 2019-11-22 09:51 data.txt\r\n",
      "-rw-rw-r-- alfons/alfons  12861 2019-11-22 16:20 grafic1.png\r\n"
     ]
    }
   ],
   "source": [
    "!tar -tvf exemple-matplotlib.tar"
   ]
  },
  {
   "cell_type": "code",
   "execution_count": 28,
   "metadata": {},
   "outputs": [
    {
     "name": "stdout",
     "output_type": "stream",
     "text": [
      "?rw-rw-r-- alfons/alfons     321603 2019-11-22 10:28:15 matplotlib.ipynb \n",
      "?rw-rw-r-- alfons/alfons       5000 2019-11-22 09:51:10 data.txt \n",
      "?rw-rw-r-- alfons/alfons      12861 2019-11-22 16:20:51 grafic1.png \n"
     ]
    }
   ],
   "source": [
    "tar = tarfile.open(\"exemple-matplotlib.tar\", \"r\")\n",
    "tar.list(verbose=True)\n",
    "tar.close()"
   ]
  },
  {
   "cell_type": "markdown",
   "metadata": {},
   "source": [
    "## os.walk"
   ]
  },
  {
   "cell_type": "code",
   "execution_count": 31,
   "metadata": {},
   "outputs": [
    {
     "name": "stdout",
     "output_type": "stream",
     "text": [
      "['.ipynb_checkpoints', 'grafic1.png', 'data.txt', 'Basics.ipynb', 'lacasadepapel.txt', 'matplotlib.ipynb', 'sistemes.ipynb', 'exemple-matplotlib.tar']\n"
     ]
    }
   ],
   "source": [
    "import os\n",
    "llistat = os.listdir(\".\")\n",
    "print(llistat)"
   ]
  },
  {
   "cell_type": "markdown",
   "metadata": {},
   "source": [
    "glob ens permet fer servir wildcards (com * o ?)"
   ]
  },
  {
   "cell_type": "code",
   "execution_count": 33,
   "metadata": {},
   "outputs": [
    {
     "name": "stdout",
     "output_type": "stream",
     "text": [
      "['./Basics.ipynb', './matplotlib.ipynb', './sistemes.ipynb']\n"
     ]
    }
   ],
   "source": [
    "import glob\n",
    "llista_ipynb = glob.glob(\"./*.ipynb\")\n",
    "print(llista_ipynb)"
   ]
  },
  {
   "cell_type": "markdown",
   "metadata": {},
   "source": [
    "Amb os.walk podem fer-ho recursiu pels subdirectoris sense fer un bucle:"
   ]
  },
  {
   "cell_type": "code",
   "execution_count": 45,
   "metadata": {},
   "outputs": [
    {
     "name": "stdout",
     "output_type": "stream",
     "text": [
      "('.', ['.ipynb_checkpoints'], ['grafic1.png', 'data.txt', 'Basics.ipynb', 'lacasadepapel.txt', 'matplotlib.ipynb', 'sistemes.ipynb', 'exemple-matplotlib.tar'])\n",
      "('./.ipynb_checkpoints', [], ['Basics-checkpoint.ipynb', 'matplotlib-checkpoint.ipynb', 'sistemes-checkpoint.ipynb'])\n"
     ]
    }
   ],
   "source": [
    "llistat=os.walk('.')\n",
    "for element in llistat:\n",
    "    print(element)"
   ]
  },
  {
   "cell_type": "code",
   "execution_count": 49,
   "metadata": {},
   "outputs": [
    {
     "name": "stdout",
     "output_type": "stream",
     "text": [
      "10\n"
     ]
    }
   ],
   "source": [
    "file_count = 0\n",
    "for currentdir, dirnames, filenames in os.walk('.'):\n",
    "      file_count += len(filenames)\n",
    "print(file_count)"
   ]
  },
  {
   "cell_type": "markdown",
   "metadata": {},
   "source": [
    "## fabric"
   ]
  },
  {
   "cell_type": "markdown",
   "metadata": {},
   "source": [
    "Fabric és una llibreria de python dissenyada per poder fer connexions ssh i executar shell en hosts."
   ]
  },
  {
   "cell_type": "markdown",
   "metadata": {},
   "source": [
    "Per a que funcioni ha de poder-se fer una connexio ssh sense passwd (amb claus) "
   ]
  },
  {
   "cell_type": "code",
   "execution_count": 50,
   "metadata": {},
   "outputs": [],
   "source": [
    "import fabric"
   ]
  },
  {
   "cell_type": "code",
   "execution_count": 52,
   "metadata": {},
   "outputs": [
    {
     "name": "stdout",
     "output_type": "stream",
     "text": [
      "moebius.prib.upf.edu\n",
      "Command exited with status 0.\n",
      "=== stdout ===\n",
      "moebius.prib.upf.edu\n",
      "\n",
      "(no stderr)\n"
     ]
    }
   ],
   "source": [
    "result = Connection('localhost').run('hostname')\n",
    "print(result)"
   ]
  },
  {
   "cell_type": "code",
   "execution_count": 55,
   "metadata": {},
   "outputs": [
    {
     "name": "stdout",
     "output_type": "stream",
     "text": [
      "41%\n"
     ]
    }
   ],
   "source": [
    "def disk_free(c):\n",
    "...     uname = c.run('uname -s', hide=True)\n",
    "...     if 'Linux' in uname.stdout:\n",
    "...         command = \"df -h / | tail -n1 | awk '{print $5}'\"\n",
    "...         return c.run(command, hide=True).stdout.strip()\n",
    "...     err = \"No idea how to get disk space on {}!\".format(uname)\n",
    "...     raise Exit(err)\n",
    "print(disk_free(Connection('localhost')))"
   ]
  },
  {
   "cell_type": "code",
   "execution_count": null,
   "metadata": {},
   "outputs": [],
   "source": []
  }
 ],
 "metadata": {
  "kernelspec": {
   "display_name": "Python 3",
   "language": "python",
   "name": "python3"
  },
  "language_info": {
   "codemirror_mode": {
    "name": "ipython",
    "version": 3
   },
   "file_extension": ".py",
   "mimetype": "text/x-python",
   "name": "python",
   "nbconvert_exporter": "python",
   "pygments_lexer": "ipython3",
   "version": "3.7.4"
  }
 },
 "nbformat": 4,
 "nbformat_minor": 2
}
