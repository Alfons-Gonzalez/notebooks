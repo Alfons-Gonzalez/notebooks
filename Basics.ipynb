{
 "cells": [
  {
   "cell_type": "markdown",
   "metadata": {},
   "source": [
    "# Basic python"
   ]
  },
  {
   "cell_type": "markdown",
   "metadata": {},
   "source": [
    "Anem a practicar una mica programant amb un llenguatge (python) "
   ]
  },
  {
   "cell_type": "markdown",
   "metadata": {},
   "source": [
    "## text"
   ]
  },
  {
   "cell_type": "markdown",
   "metadata": {},
   "source": [
    "Primer anem a  veure com treballar amb cadenes de text (strings) "
   ]
  },
  {
   "cell_type": "code",
   "execution_count": 1,
   "metadata": {},
   "outputs": [
    {
     "name": "stdout",
     "output_type": "stream",
     "text": [
      "Hola\n"
     ]
    }
   ],
   "source": [
    "print(\"Hola\")"
   ]
  },
  {
   "cell_type": "code",
   "execution_count": 2,
   "metadata": {},
   "outputs": [
    {
     "name": "stdout",
     "output_type": "stream",
     "text": [
      "Hola de nou!\n"
     ]
    }
   ],
   "source": [
    "# això és un comentari al codi i no s'executa :-)\n",
    "print (\"Hola de nou!\")"
   ]
  },
  {
   "cell_type": "code",
   "execution_count": 12,
   "metadata": {},
   "outputs": [
    {
     "name": "stdout",
     "output_type": "stream",
     "text": [
      "ja\n"
     ]
    }
   ],
   "source": [
    "print(\"ja\")"
   ]
  },
  {
   "cell_type": "code",
   "execution_count": 13,
   "metadata": {},
   "outputs": [
    {
     "name": "stdout",
     "output_type": "stream",
     "text": [
      "jajajajaja\n"
     ]
    }
   ],
   "source": [
    "print(\"ja\"*5)"
   ]
  },
  {
   "cell_type": "code",
   "execution_count": 16,
   "metadata": {},
   "outputs": [
    {
     "name": "stdout",
     "output_type": "stream",
     "text": [
      "jajajajaja!\n"
     ]
    }
   ],
   "source": [
    "print(\"ja\"*5 + \"!\")"
   ]
  },
  {
   "cell_type": "code",
   "execution_count": 17,
   "metadata": {},
   "outputs": [
    {
     "name": "stdout",
     "output_type": "stream",
     "text": [
      "quines coses,eh?\n"
     ]
    }
   ],
   "source": [
    "print(\"QUiNEs CoseS,EH?\".lower())"
   ]
  },
  {
   "cell_type": "code",
   "execution_count": 20,
   "metadata": {},
   "outputs": [
    {
     "name": "stdout",
     "output_type": "stream",
     "text": [
      "Separat\tper\ttabulador\n"
     ]
    }
   ],
   "source": [
    "print(\"Separat\\tper\\ttabulador\")"
   ]
  },
  {
   "cell_type": "code",
   "execution_count": 21,
   "metadata": {},
   "outputs": [
    {
     "name": "stdout",
     "output_type": "stream",
     "text": [
      "Canvi\n",
      "de\n",
      "linea\n"
     ]
    }
   ],
   "source": [
    "print(\"Canvi\\nde\\nlinea\")"
   ]
  },
  {
   "cell_type": "markdown",
   "metadata": {},
   "source": [
    "## nombres"
   ]
  },
  {
   "cell_type": "markdown",
   "metadata": {},
   "source": [
    "Fixem-nos que hi ha una diferencia entre 2 i \"2\":"
   ]
  },
  {
   "cell_type": "code",
   "execution_count": 39,
   "metadata": {},
   "outputs": [
    {
     "name": "stdout",
     "output_type": "stream",
     "text": [
      "22\n"
     ]
    }
   ],
   "source": [
    "print(\"2\"+\"2\")"
   ]
  },
  {
   "cell_type": "code",
   "execution_count": 40,
   "metadata": {},
   "outputs": [
    {
     "name": "stdout",
     "output_type": "stream",
     "text": [
      "4\n"
     ]
    }
   ],
   "source": [
    "print(2+2)"
   ]
  },
  {
   "cell_type": "code",
   "execution_count": 32,
   "metadata": {},
   "outputs": [
    {
     "name": "stdout",
     "output_type": "stream",
     "text": [
      "15\n"
     ]
    }
   ],
   "source": [
    "print(5*3) # podem multiplicar"
   ]
  },
  {
   "cell_type": "code",
   "execution_count": 33,
   "metadata": {},
   "outputs": [
    {
     "name": "stdout",
     "output_type": "stream",
     "text": [
      "8\n"
     ]
    }
   ],
   "source": [
    "print(2**3) # fer potencies"
   ]
  },
  {
   "cell_type": "code",
   "execution_count": 34,
   "metadata": {},
   "outputs": [
    {
     "name": "stdout",
     "output_type": "stream",
     "text": [
      "0.75\n"
     ]
    }
   ],
   "source": [
    "print(3/4) # dividir"
   ]
  },
  {
   "cell_type": "code",
   "execution_count": 35,
   "metadata": {},
   "outputs": [
    {
     "name": "stdout",
     "output_type": "stream",
     "text": [
      "0\n"
     ]
    }
   ],
   "source": [
    "print(3//4) # fer una divisio que retorna només la part sencera"
   ]
  },
  {
   "cell_type": "code",
   "execution_count": 38,
   "metadata": {},
   "outputs": [
    {
     "name": "stdout",
     "output_type": "stream",
     "text": [
      "2\n"
     ]
    }
   ],
   "source": [
    "print(6%4) # obtenir el resta de la divisio"
   ]
  },
  {
   "cell_type": "code",
   "execution_count": 42,
   "metadata": {},
   "outputs": [
    {
     "name": "stdout",
     "output_type": "stream",
     "text": [
      "5\n"
     ]
    }
   ],
   "source": [
    "print(int(5.9999)) # truncar un decimal"
   ]
  },
  {
   "cell_type": "code",
   "execution_count": 45,
   "metadata": {},
   "outputs": [
    {
     "name": "stdout",
     "output_type": "stream",
     "text": [
      "0.3333333333333333\n"
     ]
    }
   ],
   "source": [
    "# podem treballar amb variables\n",
    "x=1\n",
    "y=3\n",
    "print(x/y)"
   ]
  },
  {
   "cell_type": "markdown",
   "metadata": {},
   "source": [
    "Per algunes operacions cal que importem llibreries matemàtiques "
   ]
  },
  {
   "cell_type": "code",
   "execution_count": 55,
   "metadata": {},
   "outputs": [],
   "source": [
    "import math"
   ]
  },
  {
   "cell_type": "code",
   "execution_count": 57,
   "metadata": {},
   "outputs": [
    {
     "name": "stdout",
     "output_type": "stream",
     "text": [
      "2.0\n"
     ]
    }
   ],
   "source": [
    "x=math.sqrt(4) # arrel quadrada\n",
    "print(x)"
   ]
  },
  {
   "cell_type": "code",
   "execution_count": 58,
   "metadata": {},
   "outputs": [
    {
     "name": "stdout",
     "output_type": "stream",
     "text": [
      "3.0\n"
     ]
    }
   ],
   "source": [
    "print(math.fabs(-3)) # valor absolut"
   ]
  },
  {
   "cell_type": "code",
   "execution_count": 68,
   "metadata": {},
   "outputs": [
    {
     "name": "stdout",
     "output_type": "stream",
     "text": [
      "3.0\n",
      "6.907755278982137\n"
     ]
    }
   ],
   "source": [
    "print(math.log10(1000)) # logaritme decimal\n",
    "print(math.log(1000)) # logaritme en base 'e'"
   ]
  },
  {
   "cell_type": "code",
   "execution_count": 69,
   "metadata": {},
   "outputs": [
    {
     "name": "stdout",
     "output_type": "stream",
     "text": [
      "100.0\n",
      "7.38905609893065\n"
     ]
    }
   ],
   "source": [
    "print(math.pow(10,2)) # potencies\n",
    "print(math.exp(2)) # e elevat a x"
   ]
  },
  {
   "cell_type": "code",
   "execution_count": 67,
   "metadata": {},
   "outputs": [
    {
     "name": "stdout",
     "output_type": "stream",
     "text": [
      "3.141592653589793\n",
      "2.718281828459045\n"
     ]
    }
   ],
   "source": [
    "print(math.pi) # constants com PI, e, ...\n",
    "print(math.e)"
   ]
  },
  {
   "cell_type": "markdown",
   "metadata": {},
   "source": [
    "## booleans"
   ]
  },
  {
   "cell_type": "markdown",
   "metadata": {},
   "source": [
    "Apart de texte i nombres, en programació és útil treballar amb el que s'anomena operadors booleans, que basicament retornan Fals o Vertader"
   ]
  },
  {
   "cell_type": "code",
   "execution_count": 75,
   "metadata": {},
   "outputs": [
    {
     "name": "stdout",
     "output_type": "stream",
     "text": [
      "False\n"
     ]
    }
   ],
   "source": [
    "a=1\n",
    "b=2\n",
    "print(a > b)"
   ]
  },
  {
   "cell_type": "code",
   "execution_count": 76,
   "metadata": {},
   "outputs": [
    {
     "name": "stdout",
     "output_type": "stream",
     "text": [
      "True\n"
     ]
    }
   ],
   "source": [
    "print(a<b)"
   ]
  },
  {
   "cell_type": "code",
   "execution_count": 77,
   "metadata": {},
   "outputs": [
    {
     "name": "stdout",
     "output_type": "stream",
     "text": [
      "True\n"
     ]
    }
   ],
   "source": [
    "a=3\n",
    "b=6/2\n",
    "print(a==b)"
   ]
  },
  {
   "cell_type": "code",
   "execution_count": 78,
   "metadata": {},
   "outputs": [
    {
     "name": "stdout",
     "output_type": "stream",
     "text": [
      "False\n"
     ]
    }
   ],
   "source": [
    "a=\"Alfons\"\n",
    "b=\"alfons\"\n",
    "print(a==b)"
   ]
  },
  {
   "cell_type": "code",
   "execution_count": 79,
   "metadata": {},
   "outputs": [
    {
     "name": "stdout",
     "output_type": "stream",
     "text": [
      "True\n"
     ]
    }
   ],
   "source": [
    "a=\"una frase\"\n",
    "b=\"una frase\"\n",
    "print(a==b)"
   ]
  },
  {
   "cell_type": "markdown",
   "metadata": {},
   "source": [
    "## llistes i altres herbes"
   ]
  },
  {
   "cell_type": "markdown",
   "metadata": {},
   "source": [
    "Una de les gràcies de programar és poder fer coses automàtiques i per això sovint ens anirà bé treballar amb llistes de coses"
   ]
  },
  {
   "cell_type": "code",
   "execution_count": 92,
   "metadata": {},
   "outputs": [
    {
     "name": "stdout",
     "output_type": "stream",
     "text": [
      "('Mercuri', 'Venus', 'Terra', 'Mart', 'Jupiter', 'Saturn', 'Urà', 'Neptú', 'Plutó')\n",
      "Terra\n",
      "9\n",
      "('Mercuri', 'Venus', 'Terra', 'Mart')\n",
      "('Jupiter', 'Saturn', 'Urà', 'Neptú', 'Plutó')\n",
      "('Mart', 'Saturn', 'Neptú')\n"
     ]
    }
   ],
   "source": [
    "#llistes\n",
    "planetes=(\"Mercuri\",\"Venus\",\"Terra\",\"Mart\",\"Jupiter\",\"Saturn\",\"Urà\",\"Neptú\",\"Plutó\")\n",
    "print(planetes[:]) # tota la llista\n",
    "print(planetes[2]) # el tercer element\n",
    "print(len(planetes)) # com de llarga és la llista\n",
    "print(planetes[:4]) # fins al 4rt element inclos\n",
    "print(planetes[4:]) # a partir del 4rt \n",
    "print(planetes[3::2]) # a partir de tres des del principi i sense els 2 darrers"
   ]
  },
  {
   "cell_type": "code",
   "execution_count": 93,
   "metadata": {},
   "outputs": [
    {
     "name": "stdout",
     "output_type": "stream",
     "text": [
      "{'joan': 20, 'julia': 22, 'judit': 23, 'jordi': 29}\n"
     ]
    }
   ],
   "source": [
    "# dicionaris\n",
    "edats = { 'joan': 20, 'julia': 22 , 'judit': 23, 'jordi': 29 }\n",
    "print (edats)"
   ]
  },
  {
   "cell_type": "code",
   "execution_count": 95,
   "metadata": {},
   "outputs": [
    {
     "name": "stdout",
     "output_type": "stream",
     "text": [
      "20\n"
     ]
    }
   ],
   "source": [
    "print(edats['joan'])"
   ]
  },
  {
   "cell_type": "code",
   "execution_count": 97,
   "metadata": {},
   "outputs": [
    {
     "name": "stdout",
     "output_type": "stream",
     "text": [
      "['joan', 'julia', 'judit', 'jordi']\n"
     ]
    }
   ],
   "source": [
    "claus=list(edats.keys())\n",
    "print(claus)"
   ]
  },
  {
   "cell_type": "code",
   "execution_count": 98,
   "metadata": {},
   "outputs": [
    {
     "name": "stdout",
     "output_type": "stream",
     "text": [
      "[20, 22, 23, 29]\n"
     ]
    }
   ],
   "source": [
    "valors=list(edats.values())\n",
    "print(valors)"
   ]
  },
  {
   "cell_type": "markdown",
   "metadata": {},
   "source": [
    "## condicionals"
   ]
  },
  {
   "cell_type": "markdown",
   "metadata": {},
   "source": [
    "ens pot anar bé fer una cosa si es compleix una condicio donada"
   ]
  },
  {
   "cell_type": "code",
   "execution_count": 107,
   "metadata": {},
   "outputs": [
    {
     "name": "stdout",
     "output_type": "stream",
     "text": [
      "felicitats, has aprovat, tens un 8\n"
     ]
    }
   ],
   "source": [
    "llindar=5\n",
    "nota=8\n",
    "if nota > llindar:\n",
    "    print(\"felicitats, has aprovat, tens un\", nota)\n",
    "elif nota==llindar:\n",
    "    print(\"has aprovat justet, justet\")\n",
    "elif nota < llindar:\n",
    "    print(\"mmmm...has d'estudiar més, només tens un\", nota)\n"
   ]
  },
  {
   "cell_type": "markdown",
   "metadata": {},
   "source": [
    "## bucles"
   ]
  },
  {
   "cell_type": "markdown",
   "metadata": {},
   "source": [
    "Quan hem de fer moltes vegades la mateixa cosa, va bé fer servir bucles"
   ]
  },
  {
   "cell_type": "code",
   "execution_count": 110,
   "metadata": {},
   "outputs": [
    {
     "name": "stdout",
     "output_type": "stream",
     "text": [
      "Mercuri pertany al sistema solar\n",
      "Venus pertany al sistema solar\n",
      "Terra pertany al sistema solar\n",
      "Mart pertany al sistema solar\n",
      "Jupiter pertany al sistema solar\n",
      "Saturn pertany al sistema solar\n",
      "Urà pertany al sistema solar\n",
      "Neptú pertany al sistema solar\n",
      "Plutó pertany al sistema solar\n"
     ]
    }
   ],
   "source": [
    "# recordes que tenim definida una llista de planetes?\n",
    "for planeta in planetes:\n",
    "    print (planeta, \"pertany al sistema solar\")"
   ]
  },
  {
   "cell_type": "code",
   "execution_count": 122,
   "metadata": {},
   "outputs": [
    {
     "name": "stdout",
     "output_type": "stream",
     "text": [
      "joanna té 16 anys\n",
      "joel té 15 anys\n",
      "joan té 20 anys\n",
      "julia té 22 anys\n",
      "judit té 23 anys\n",
      "jordi té 29 anys\n",
      "\n",
      "\n",
      "joanna és menor d'edat, té 16 anys\n",
      "joel és menor d'edat, té 15 anys\n"
     ]
    }
   ],
   "source": [
    "# i el diccionari amb noms i edats?\n",
    "# per claredat repetim el codi i el modifiquem un mica\n",
    "edats = {'joanna':16, 'joel':15, 'joan': 20, 'julia': 22 , 'judit': 23, 'jordi': 29 }\n",
    "noms = list(edats.keys())\n",
    "edat = list(edats.values())\n",
    "for nom in noms:\n",
    "    print(nom,\"té\",edats[nom], \"anys\")\n",
    "# afegim un condicional\n",
    "print(\"\\n\") # una linea en blanc per distingir millor entre els dos blocs de resultats\n",
    "major=18\n",
    "for nom in noms:\n",
    "    if edats[nom] < major:\n",
    "        print(nom, \"és menor d'edat, té\", edats[nom], \"anys\")\n"
   ]
  },
  {
   "cell_type": "markdown",
   "metadata": {},
   "source": [
    "## recollint input"
   ]
  },
  {
   "cell_type": "code",
   "execution_count": 125,
   "metadata": {},
   "outputs": [
    {
     "name": "stdout",
     "output_type": "stream",
     "text": [
      "Com et dius?Jacob\n"
     ]
    }
   ],
   "source": [
    "name=input(\"Com et dius?\")"
   ]
  },
  {
   "cell_type": "code",
   "execution_count": 127,
   "metadata": {},
   "outputs": [
    {
     "name": "stdout",
     "output_type": "stream",
     "text": [
      "Jacob\n",
      "Jacob te 5 lletres\n"
     ]
    }
   ],
   "source": [
    "print(name)\n",
    "llarg=len(name)\n",
    "print(name,\"te\", llarg, \"lletres\")"
   ]
  },
  {
   "cell_type": "markdown",
   "metadata": {},
   "source": [
    "## funcions"
   ]
  },
  {
   "cell_type": "markdown",
   "metadata": {},
   "source": [
    "Una funció és un programa que retorna un resultat. Per exemple abans ja hem vist math.sqrt() que és una funció que retorna l'arrel quadrada del nombre al que li apliquem la funció. Podem definir les nostres propies funcions."
   ]
  },
  {
   "cell_type": "code",
   "execution_count": 129,
   "metadata": {},
   "outputs": [
    {
     "name": "stdout",
     "output_type": "stream",
     "text": [
      "2.0\n"
     ]
    }
   ],
   "source": [
    "# funció densitat\n",
    "def densitat(massa,volum):\n",
    "    return massa/volum\n",
    "#pels valors de massa i volum \n",
    "massa=1\n",
    "volum=0.5\n",
    "resultat = densitat(massa,volum)\n",
    "print(resultat)"
   ]
  },
  {
   "cell_type": "code",
   "execution_count": 140,
   "metadata": {},
   "outputs": [
    {
     "name": "stdout",
     "output_type": "stream",
     "text": [
      "Llargada d'un catet en cm\n",
      "3\n",
      "Llargada del segon catet en cm\n",
      " 2\n",
      "la hipotenusa mesura 3.605551275463989 cm\n",
      "\n"
     ]
    }
   ],
   "source": [
    "# funcio per calcular la hipotenusa d'un triangle rectangle\n",
    "# importarem les funcions matematiques\n",
    "import math\n",
    "# preguntem la llargada dels catets\n",
    "def dades_catets():\n",
    "    a = float(input(\"Llargada d'un catet en cm\\n\"))\n",
    "    b = float(input(\"Llargada del segon catet en cm\\n \"))\n",
    "    return (a, b)\n",
    "# la funcio de calcul de la hipotenusa donats dos nombres\n",
    "def hipo(x,y):\n",
    "    hipotenusa = math.sqrt(x**2 + y**2)\n",
    "    return hipotenusa\n",
    "# recollim les dades\n",
    "a, b = dades_catets()\n",
    "# calculem resultat fent servir la funció amb les dades que hem recollit\n",
    "resultat=hipo(a,b)\n",
    "print(\"la hipotenusa mesura\",resultat, \"cm\\n\")\n"
   ]
  },
  {
   "cell_type": "markdown",
   "metadata": {},
   "source": [
    "## Fitxers"
   ]
  },
  {
   "cell_type": "markdown",
   "metadata": {},
   "source": [
    "Sovint necessitarem llegir o escriure en fitxers de l'ordinador, aixi que cal saber com interaccionar amb ells desde python"
   ]
  },
  {
   "cell_type": "code",
   "execution_count": 6,
   "metadata": {},
   "outputs": [
    {
     "name": "stdout",
     "output_type": "stream",
     "text": [
      "Profesor\n",
      "Berlin\n",
      "Nairobi\n",
      "Tokyo\n",
      "Rio\n",
      "Denver\n",
      "Moscu\n",
      "\n",
      "Basics.ipynb  grafic1.png\t lacasadepapel.txt\n",
      "data.txt      lacasadepapel,txt  test.ipynb\n"
     ]
    }
   ],
   "source": [
    "# he creat un fitxer de text anomenat lacasadepapel.txt al directori del notebook i que té aquesta pinta\n",
    "!cat lacasadepapel.txt\n",
    "# cat és una comanda de linux shell que volca el contingut d'un fitxer, per executar una comada de shell \n",
    "# desde el notebook primer posem !\n",
    "# per exemple podem llistar el contingut del directori on esta aquest notebook fent \n",
    "!ls"
   ]
  },
  {
   "cell_type": "code",
   "execution_count": 12,
   "metadata": {},
   "outputs": [
    {
     "name": "stdout",
     "output_type": "stream",
     "text": [
      "Profesor\n",
      "Berlin\n",
      "Nairobi\n",
      "Tokyo\n",
      "Rio\n",
      "Denver\n",
      "Moscu\n",
      "\n"
     ]
    }
   ],
   "source": [
    "# ara pero llegirem el fitxer sense fer servir comandes de shell\n",
    "# obrim el fitxer\n",
    "lacasa = open ('lacasadepapel.txt','r')\n",
    "# el llegim\n",
    "contingut = lacasa.read()\n",
    "print(contingut)\n",
    "# tanquem el fitxer\n",
    "lacasa.close()"
   ]
  },
  {
   "cell_type": "code",
   "execution_count": 13,
   "metadata": {},
   "outputs": [],
   "source": [
    "# ara anem a afegir coses\n",
    "lacasa = open('lacasadepapel.txt','+a')\n",
    "lacasa.write('Oslo\\n')\n",
    "lacasa.close()"
   ]
  },
  {
   "cell_type": "code",
   "execution_count": 14,
   "metadata": {},
   "outputs": [
    {
     "name": "stdout",
     "output_type": "stream",
     "text": [
      "Profesor\r\n",
      "Berlin\r\n",
      "Nairobi\r\n",
      "Tokyo\r\n",
      "Rio\r\n",
      "Denver\r\n",
      "Moscu\r\n",
      "Oslo\r\n"
     ]
    }
   ],
   "source": [
    "!cat lacasadepapel.txt"
   ]
  },
  {
   "cell_type": "code",
   "execution_count": 21,
   "metadata": {},
   "outputs": [
    {
     "name": "stdout",
     "output_type": "stream",
     "text": [
      "Nom del fitxer: lacasadepapel.txt\n",
      "Totes les linees com una llista\n",
      "['Profesor\\n', 'Berlin\\n', 'Nairobi\\n', 'Tokyo\\n', 'Rio\\n', 'Denver\\n', 'Moscu\\n', 'Oslo\\n']\n",
      "\n",
      " I ara linea a linea\n",
      "Profesor\n",
      "\n",
      "Berlin\n",
      "\n",
      "Nairobi\n",
      "\n",
      "Tokyo\n",
      "\n",
      "Rio\n",
      "\n",
      "Denver\n",
      "\n",
      "Moscu\n",
      "\n",
      "Oslo\n",
      "\n"
     ]
    }
   ],
   "source": [
    "# llegim linea a linea\n",
    "lacasa = open ('lacasadepapel.txt','r')\n",
    "print(\"Nom del fitxer:\",lacasa.name)\n",
    "linees=lacasa.readlines()\n",
    "print(\"Totes les linees com una llista\")\n",
    "print(linees)\n",
    "print(\"\\n I ara linea a linea\")\n",
    "for lin in linees:\n",
    "    print(lin)"
   ]
  },
  {
   "cell_type": "code",
   "execution_count": null,
   "metadata": {},
   "outputs": [],
   "source": []
  }
 ],
 "metadata": {
  "kernelspec": {
   "display_name": "Python 3",
   "language": "python",
   "name": "python3"
  },
  "language_info": {
   "codemirror_mode": {
    "name": "ipython",
    "version": 3
   },
   "file_extension": ".py",
   "mimetype": "text/x-python",
   "name": "python",
   "nbconvert_exporter": "python",
   "pygments_lexer": "ipython3",
   "version": "3.7.4"
  }
 },
 "nbformat": 4,
 "nbformat_minor": 2
}
