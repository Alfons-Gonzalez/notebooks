{
 "cells": [
  {
   "cell_type": "markdown",
   "metadata": {},
   "source": [
    "# Combinatòria\n",
    "Anem a repassar alguns conceptes de combinatòria"
   ]
  },
  {
   "cell_type": "markdown",
   "metadata": {},
   "source": [
    "## Factorial\n",
    "Definim el factorial com\n",
    "$n!=n*(n-1)*(n-2)*...*3*2*1$"
   ]
  },
  {
   "cell_type": "markdown",
   "metadata": {},
   "source": [
    "I definim $0!=1$"
   ]
  },
  {
   "cell_type": "markdown",
   "metadata": {},
   "source": [
    "Recordem que en python podem calcular factorials"
   ]
  },
  {
   "cell_type": "code",
   "execution_count": 10,
   "metadata": {},
   "outputs": [
    {
     "name": "stdout",
     "output_type": "stream",
     "text": [
      "El resultat de 4! és igual a 24\n"
     ]
    }
   ],
   "source": [
    "# primer importem les llibreries matemàtiques\n",
    "import math\n",
    "# definim la variable\n",
    "X=4\n",
    "result=math.factorial(X)\n",
    "print(\"El resultat de 4! és igual a\" ,result)"
   ]
  },
  {
   "cell_type": "markdown",
   "metadata": {},
   "source": [
    "## Variacions ordinàries\n",
    "\n",
    " \n",
    "\n",
    "Anomenem variacions ordinaries de $m$ elements agafats de $n$ en $n (m ≥ n)$ als dferents grups formats por $n$ elements de forma que:\n",
    "\n",
    " \n",
    "1.- No estan tots els elements\n",
    "\n",
    "2.- Si importa l'ordre\n",
    "\n",
    "3.- No es repeteixen els elements\n",
    "\n",
    " "
   ]
  },
  {
   "cell_type": "markdown",
   "metadata": {},
   "source": [
    "$V^m_{n}=m*(m-1)*(m-2)*...*(m-n+1)$"
   ]
  },
  {
   "cell_type": "markdown",
   "metadata": {},
   "source": [
    "Això ho podem expressar amb factorials:\n",
    "\n",
    "$V^m_{n}=\\frac{m!}{(m-n)!}$"
   ]
  },
  {
   "cell_type": "markdown",
   "metadata": {},
   "source": [
    "## Exemple 1\n",
    "Si tenim 4 lletres ${a,b,c,d}$ i volem saber quants grups diferents podem formar amb 2 per exemple $ab,ac,ad,ba,bc...$ (sense repetir les lletres, és a dir, que $aa$ no és una variació possible)"
   ]
  },
  {
   "cell_type": "markdown",
   "metadata": {},
   "source": [
    "Seguint la fòrmula $V^4_{2}=\\frac{4!}{2!}$"
   ]
  },
  {
   "cell_type": "code",
   "execution_count": 11,
   "metadata": {},
   "outputs": [
    {
     "name": "stdout",
     "output_type": "stream",
     "text": [
      "12.0\n"
     ]
    }
   ],
   "source": [
    "# podem fer-ho amb python\n",
    "import math\n",
    "result=math.factorial(4)/math.factorial(2)\n",
    "print(result)"
   ]
  },
  {
   "cell_type": "markdown",
   "metadata": {},
   "source": [
    "## Exemple 2\n",
    "Si en una associació de 10 persones, cal escollir una junta formada per un president, a un secretari i un tresorer, quantes maneres diferents hi ha de composar la junta (tenint en compte que els càrrecs no es poden exercir simultàneament: el president no pot ser al mateix temps secretari)"
   ]
  },
  {
   "cell_type": "code",
   "execution_count": null,
   "metadata": {},
   "outputs": [],
   "source": [
    "# Exercici pel lector"
   ]
  },
  {
   "cell_type": "markdown",
   "metadata": {},
   "source": [
    "## Variacions amb repetició\n",
    "Anomenem variacions amb repetició de $m$ elements agafats en grups de $n$ als grups formats per $n$ elements de forma que:\n",
    "\n",
    "1.- No estan tots els elements si $m > n$, si que poden estar tots per $n > $m\n",
    "\n",
    "2.- Sí importa l'ordre\n",
    "\n",
    "3.- Sí es poden repetir els elements\n",
    "\n",
    "La fòrmula per calcular el nombre de grups"
   ]
  },
  {
   "cell_type": "markdown",
   "metadata": {},
   "source": [
    "$VR^m_{n}=m^n$"
   ]
  },
  {
   "cell_type": "markdown",
   "metadata": {},
   "source": [
    "## Exemple 1\n",
    "Quants nombres de tres xifres podem escriure amb les xifres 1 i 2? (111,112,121...)"
   ]
  },
  {
   "cell_type": "code",
   "execution_count": 12,
   "metadata": {},
   "outputs": [
    {
     "name": "stdout",
     "output_type": "stream",
     "text": [
      "8\n"
     ]
    }
   ],
   "source": [
    "# calcul de quants nombres de 3 xifres podem escriure amb dues\n",
    "# tenim m elements (1,2)\n",
    "# en grups de 3 (per formar 111,112,221,222,...)\n",
    "import math\n",
    "m=2\n",
    "n=3\n",
    "VR=2**3\n",
    "print(VR)"
   ]
  },
  {
   "cell_type": "markdown",
   "metadata": {},
   "source": [
    "## Permutacions\n",
    "\n",
    "Anomenem permutacions als grups formats per n elements quan\n",
    " \n",
    "\n",
    "1.- Si entren tots els elements\n",
    "\n",
    "2.- Importa l'ordre\n",
    " \n",
    "3.- No es repeteixen els elements\n",
    "\n",
    "La fòrmula per calcular-ho:\n",
    "\n",
    "$P_{n}=n!$"
   ]
  },
  {
   "cell_type": "markdown",
   "metadata": {},
   "source": [
    "## Exemple 1\n",
    "De quantes maneres es poden ordenar les 40 cartes d'una baralla de cartes napolitana (que va de l'1 al 10 i té 4 pals: ors,bastos,espases i copes)"
   ]
  },
  {
   "cell_type": "code",
   "execution_count": 33,
   "metadata": {},
   "outputs": [
    {
     "name": "stdout",
     "output_type": "stream",
     "text": [
      "815915283247897734345611269596115894272000000000\n",
      "\n",
      "Com costa de llegir el resultat l'expressem en potencies de 10:\n",
      "\n",
      "8.16e+47\n",
      "\n",
      "és a dir 8 i poc multiplicat per 10 elevat a la 47\n",
      "\n"
     ]
    }
   ],
   "source": [
    "# maneres diferents d'ordenar les 40 cartes\n",
    "import math\n",
    "result=math.factorial(40)\n",
    "print(result)\n",
    "# no és gaire legible...aixi que ho farem \n",
    "# \n",
    "print(\"\\nCom costa de llegir el resultat l'expressem en potencies de 10:\\n\")\n",
    "print('{:.2e}'.format(result)) # el .2 és pq vull només 2 decimals\n",
    "print(\"\\nés a dir 8 i poc multiplicat per 10 elevat a la 47\\n\")\n"
   ]
  },
  {
   "cell_type": "markdown",
   "metadata": {},
   "source": [
    "## Permutacions circulars\n",
    "Es tracta del cas particular en que les permutacions es realitzin en cercle...i.e. com un grup de persones en una rotllana\n",
    "\n",
    "En aquest cas la fòrmula és:\n",
    "$PC_{n}=(n-1)!$"
   ]
  },
  {
   "cell_type": "markdown",
   "metadata": {},
   "source": [
    "## Permutacions amb repetició\n",
    "Es tracta d'un cas de permutacions de $n$ elements on\n",
    "\n",
    "1.- es fan servir tots els elements\n",
    "\n",
    "2.- un es repeteix $a$ vegades, un altre $b$ vegades, un altre $c$ vegades, etc\n",
    "\n",
    "3.- importa l' ordre \n",
    "\n",
    "La fòrmula és\n",
    "\n",
    "$PR_{n}=\\frac{n!}{a!*b!*c!..}$"
   ]
  },
  {
   "cell_type": "markdown",
   "metadata": {},
   "source": [
    "## Exemple\n",
    "Tenim els 7 llibres de Harry Potter, 4 en català, 2 en castellà i 1 en francès. De quantes maneres podem ordenar-los segons l'idioma?"
   ]
  },
  {
   "cell_type": "code",
   "execution_count": 36,
   "metadata": {},
   "outputs": [
    {
     "name": "stdout",
     "output_type": "stream",
     "text": [
      "105.0\n"
     ]
    }
   ],
   "source": [
    "# endreçant els llibres segons l'idioma\n",
    "#  \n",
    "import math\n",
    "# el nombre total de llibres\n",
    "n=7\n",
    "# el nombre de llibres agrupats pel que fa a l'idioma\n",
    "a=4\n",
    "b=2\n",
    "c=1\n",
    "PR=math.factorial(7)/(math.factorial(a)*math.factorial(b)*math.factorial(c))\n",
    "print(PR)\n"
   ]
  },
  {
   "cell_type": "markdown",
   "metadata": {},
   "source": [
    "## Combinacions\n",
    "Anomenem combinacions de $m$ elements agafats en grups de $n$ ($m >= n$) als grups formats si\n",
    "\n",
    "1.- No agafem tots els elements\n",
    "\n",
    "2.- No importa l'ordre\n",
    "\n",
    "3.- No es repeteixen els elements\n",
    "\n",
    "La fòrmula\n",
    "\n",
    "$C^m_{n}=\\frac{V^m_{n}}{P_{n}}$"
   ]
  },
  {
   "cell_type": "markdown",
   "metadata": {},
   "source": [
    "També podem expressar la fòrmula com:\n",
    "\n",
    "$C^m_{n}=\\frac{m!}{(m-n)!*n!}$"
   ]
  },
  {
   "cell_type": "markdown",
   "metadata": {},
   "source": [
    "## Exemple\n",
    "Tenim 4 monedes, totes elles de valor diferent: 1 eur, 0.50 eur, 0.20 eur i 0.10 euros, si agafem 3 monedes, quantes quantitats diferents podem tenir?\n",
    "\n"
   ]
  },
  {
   "cell_type": "code",
   "execution_count": 37,
   "metadata": {},
   "outputs": [
    {
     "name": "stdout",
     "output_type": "stream",
     "text": [
      "4.0\n"
     ]
    }
   ],
   "source": [
    "# Amb 4 monedes, cadascuna d'un import diferent, si agafem 3 d'elles, quantes quantitats diferents podrem obtenir\n",
    "import math\n",
    "# conjunt total \n",
    "m=4\n",
    "# en grups de\n",
    "n=3\n",
    "C=math.factorial(m)/(math.factorial(m-n)*math.factorial(n))\n",
    "print(C)"
   ]
  },
  {
   "cell_type": "code",
   "execution_count": 44,
   "metadata": {},
   "outputs": [
    {
     "name": "stdout",
     "output_type": "stream",
     "text": [
      "Amb tres de les monedes podem obtenir  170 , 160 , 130 i 80 cèntims d'euro\n"
     ]
    }
   ],
   "source": [
    "# i quines són aquestes quantitats?\n",
    "a=100\n",
    "b=50\n",
    "c=20\n",
    "d=10\n",
    "\n",
    "C1=a+b+c\n",
    "C2=a+b+d\n",
    "C3=a+c+d\n",
    "C4=b+c+d\n",
    "\n",
    "print(\"Amb tres de les monedes podem obtenir \", C1,\",\",C2,\",\", C3,\"i\", C4, \"cèntims d'euro\")\n"
   ]
  },
  {
   "cell_type": "markdown",
   "metadata": {},
   "source": [
    "## Combinacions amb repetició\n",
    "Anomenem combinacions amb repetició de $m$ elements agafats en grups de $n$ als grups formats si:\n",
    "\n",
    "1.- No s'agafen tots els elements\n",
    "\n",
    "2.- No importa l'ordre\n",
    "\n",
    "3.- Si es poden repetir\n",
    "\n",
    "La fòrmula:\n",
    "\n",
    "$CR^m_{n}=\\frac{(m+n-1)!}{n!*(m-1)!}$"
   ]
  },
  {
   "cell_type": "markdown",
   "metadata": {},
   "source": [
    "## Exemple\n",
    "Tenim boles de 4 colors (blau,groc,verd,vermell) en una bossa, si agafem 3 boles de cop amb els ulls tancats, quines diferents combinacions de colors podem obtenir? (estil blau-blau-verd-groc, verd-blau-groc-vermell i tenint en compte que blau-verd-groc-vermell=verd-blau-vermell-groc)\n"
   ]
  },
  {
   "cell_type": "code",
   "execution_count": 45,
   "metadata": {},
   "outputs": [
    {
     "name": "stdout",
     "output_type": "stream",
     "text": [
      "20.0\n"
     ]
    }
   ],
   "source": [
    "import math\n",
    "# conjunt total de colors \n",
    "m=4\n",
    "# en grups de\n",
    "n=3\n",
    "CR=math.factorial(m+n-1)/(math.factorial(n)*math.factorial(m-1))\n",
    "print (CR)\n"
   ]
  },
  {
   "cell_type": "code",
   "execution_count": null,
   "metadata": {},
   "outputs": [],
   "source": []
  }
 ],
 "metadata": {
  "kernelspec": {
   "display_name": "Python 3",
   "language": "python",
   "name": "python3"
  },
  "language_info": {
   "codemirror_mode": {
    "name": "ipython",
    "version": 3
   },
   "file_extension": ".py",
   "mimetype": "text/x-python",
   "name": "python",
   "nbconvert_exporter": "python",
   "pygments_lexer": "ipython3",
   "version": "3.7.4"
  }
 },
 "nbformat": 4,
 "nbformat_minor": 2
}
