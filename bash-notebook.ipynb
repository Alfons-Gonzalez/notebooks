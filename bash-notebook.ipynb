{
 "cells": [
  {
   "cell_type": "markdown",
   "metadata": {},
   "source": [
    "# Bash tutorial"
   ]
  },
  {
   "cell_type": "markdown",
   "metadata": {},
   "source": [
    "## hello world\n",
    "Un tutorial com cal ha de començar amb \"hello world\""
   ]
  },
  {
   "cell_type": "code",
   "execution_count": 1,
   "metadata": {},
   "outputs": [
    {
     "name": "stdout",
     "output_type": "stream",
     "text": [
      "hello world\n"
     ]
    }
   ],
   "source": [
    "echo \"hello world\""
   ]
  },
  {
   "cell_type": "markdown",
   "metadata": {},
   "source": [
    "## directoris i fitxers"
   ]
  },
  {
   "cell_type": "code",
   "execution_count": 1,
   "metadata": {},
   "outputs": [
    {
     "name": "stdout",
     "output_type": "stream",
     "text": [
      "/home/alfons/notebooks\n"
     ]
    }
   ],
   "source": [
    "# per saber a quin directori estem \n",
    "pwd"
   ]
  },
  {
   "cell_type": "code",
   "execution_count": 2,
   "metadata": {},
   "outputs": [
    {
     "name": "stdout",
     "output_type": "stream",
     "text": [
      "bash-notebook.ipynb  \u001b[0m\u001b[38;5;9mexemple-matplotlib.tar\u001b[0m  matplotlib.ipynb\n",
      "Basics.ipynb         \u001b[38;5;13mgrafic1.png\u001b[0m             sistemes.ipynb\n",
      "data.txt             lacasadepapel.txt\n"
     ]
    }
   ],
   "source": [
    "# per saber quins fitxers i directoris hi ha dins\n",
    "ls"
   ]
  },
  {
   "cell_type": "code",
   "execution_count": 4,
   "metadata": {},
   "outputs": [
    {
     "name": "stdout",
     "output_type": "stream",
     "text": [
      "total 720\n",
      "-rw-rw-r-- 1 alfons alfons   2792 Nov 26 11:58 bash-notebook.ipynb\n",
      "-rw-rw-r-- 1 alfons alfons  20962 Nov 22 16:09 Basics.ipynb\n",
      "-rw-rw-r-- 1 alfons alfons   5000 Nov 22 09:51 data.txt\n",
      "-rw-rw-r-- 1 alfons alfons 348160 Nov 22 16:45 \u001b[0m\u001b[38;5;9mexemple-matplotlib.tar\u001b[0m\n",
      "-rw-rw-r-- 1 alfons alfons  12861 Nov 22 16:20 \u001b[38;5;13mgrafic1.png\u001b[0m\n",
      "-rw-rw-r-- 1 alfons alfons     52 Nov 22 15:07 lacasadepapel.txt\n",
      "-rw-rw-r-- 1 alfons alfons 321603 Nov 22 10:28 matplotlib.ipynb\n",
      "-rw-rw-r-- 1 alfons alfons   6651 Nov 25 15:08 sistemes.ipynb\n"
     ]
    }
   ],
   "source": [
    "# si volem veure tamany , propietari, data, permisos dels fitxers...\n",
    "ls -l"
   ]
  },
  {
   "cell_type": "code",
   "execution_count": 5,
   "metadata": {},
   "outputs": [
    {
     "name": "stdout",
     "output_type": "stream",
     "text": [
      "total 732\n",
      "drwxrwxr-x   3 alfons alfons    215 Nov 26 11:58 \u001b[0m\u001b[38;5;27m.\u001b[0m\n",
      "drwx------. 78 alfons   1000   8192 Nov 26 08:52 \u001b[38;5;27m..\u001b[0m\n",
      "-rw-rw-r--   1 alfons alfons   2792 Nov 26 11:58 bash-notebook.ipynb\n",
      "-rw-rw-r--   1 alfons alfons  20962 Nov 22 16:09 Basics.ipynb\n",
      "-rw-rw-r--   1 alfons alfons   5000 Nov 22 09:51 data.txt\n",
      "-rw-rw-r--   1 alfons alfons 348160 Nov 22 16:45 \u001b[38;5;9mexemple-matplotlib.tar\u001b[0m\n",
      "-rw-rw-r--   1 alfons alfons  12861 Nov 22 16:20 \u001b[38;5;13mgrafic1.png\u001b[0m\n",
      "drwxrwxr-x   2 alfons alfons    143 Nov 26 11:06 \u001b[38;5;27m.ipynb_checkpoints\u001b[0m\n",
      "-rw-rw-r--   1 alfons alfons     52 Nov 22 15:07 lacasadepapel.txt\n",
      "-rw-rw-r--   1 alfons alfons 321603 Nov 22 10:28 matplotlib.ipynb\n",
      "-rw-rw-r--   1 alfons alfons   6651 Nov 25 15:08 sistemes.ipynb\n"
     ]
    }
   ],
   "source": [
    "# si volem veure els ocults\n",
    "ls -la"
   ]
  },
  {
   "cell_type": "code",
   "execution_count": 6,
   "metadata": {},
   "outputs": [],
   "source": [
    "# entrar a un directori\n",
    "cd .ipynb_checkpoints"
   ]
  },
  {
   "cell_type": "code",
   "execution_count": 7,
   "metadata": {},
   "outputs": [
    {
     "name": "stdout",
     "output_type": "stream",
     "text": [
      "/home/alfons/notebooks/.ipynb_checkpoints\n",
      "bash-notebook-checkpoint.ipynb  matplotlib-checkpoint.ipynb\n",
      "Basics-checkpoint.ipynb         sistemes-checkpoint.ipynb\n"
     ]
    }
   ],
   "source": [
    "# comprovem que hem entrat i mirem que hi ha dins\n",
    "pwd; ls"
   ]
  },
  {
   "cell_type": "code",
   "execution_count": 8,
   "metadata": {},
   "outputs": [],
   "source": [
    "# tornem enrere\n",
    "cd .."
   ]
  },
  {
   "cell_type": "code",
   "execution_count": 9,
   "metadata": {},
   "outputs": [
    {
     "name": "stdout",
     "output_type": "stream",
     "text": [
      "drwxrwxr-x 2 alfons alfons 20 Nov 26 15:22 \u001b[0m\u001b[38;5;27mtest\u001b[0m\n",
      "total 0\n",
      "-rw-rw-r-- 1 alfons alfons 0 Nov 26 15:22 zz.txt\n"
     ]
    }
   ],
   "source": [
    "# crear un directori\n",
    "mkdir test\n",
    "# crear un fitxer (buit) dins\n",
    "touch test/zz.txt\n",
    "# veure-ho\n",
    "ls -ld test; ls -l test"
   ]
  },
  {
   "cell_type": "code",
   "execution_count": 10,
   "metadata": {},
   "outputs": [
    {
     "name": "stdout",
     "output_type": "stream",
     "text": [
      "drwx------ 2 alfons alfons 20 Nov 26 15:22 \u001b[0m\u001b[38;5;27mtest\u001b[0m\n",
      "total 0\n",
      "-rw-r----- 1 alfons alfons 0 Nov 26 15:22 zz.txt\n"
     ]
    }
   ],
   "source": [
    "# canviem permisos\n",
    "chmod 700 test\n",
    "chmod 640 test/zz.txt\n",
    "ls -ld test; ls -l test"
   ]
  },
  {
   "cell_type": "markdown",
   "metadata": {},
   "source": [
    "Els permisos d'un fitxer o directori són: r lectura (4), w escriptura (2) i x execució (1) i es donen per propietari, grup, i altres, de manera que en fer chmod 700 test, he donat permisos de rwx (4+2+1=7) al propietari del directori test i cap permis a la resta. I en donar permisos 640 al fitxer zz.txt, he donat permisos de lectura i escriptura (4+2=6) al propietari i de lectura (4) al grup.\n"
   ]
  },
  {
   "cell_type": "code",
   "execution_count": 11,
   "metadata": {},
   "outputs": [
    {
     "name": "stdout",
     "output_type": "stream",
     "text": [
      "hola\n",
      "una linea\n",
      "adeu\n"
     ]
    }
   ],
   "source": [
    "# posem alguna cosa dins del fitxer fent servir redireccions >\n",
    "echo \"hola\" > test/zz.txt\n",
    "echo \"una linea\" >> test/zz.txt\n",
    "echo \"adeu\" >> test/zz.txt\n",
    "# mirem dins\n",
    "cat test/zz.txt"
   ]
  },
  {
   "cell_type": "code",
   "execution_count": 12,
   "metadata": {},
   "outputs": [
    {
     "name": "stdout",
     "output_type": "stream",
     "text": [
      "ups...\n"
     ]
    }
   ],
   "source": [
    "# compte perque >> afegeix, pero > no...\n",
    "echo \"ups...\" > test/zz.txt\n",
    "cat test/zz.txt"
   ]
  },
  {
   "cell_type": "code",
   "execution_count": 43,
   "metadata": {},
   "outputs": [
    {
     "name": "stdout",
     "output_type": "stream",
     "text": [
      "\"Hi havia una vegada, en una contrada molt llunyana, una petita cabana a prop d'un gran bosc de roures, castanyers i faigs.\n",
      "Era una construcció un xic especial, perquè si bé desde fora podia semblar una cabana petita feta amb branquillons i molsa, \n",
      "on amb prou feines podia encabir-hi un nen petit, un cop entraves, era grandiosa i acollidora. Tenia parets de pedra, mobles de fusta i una gran llar de foc. \n",
      "Es tractava, com ja heu endevinat, d'una cabana màgica.\"\n"
     ]
    }
   ],
   "source": [
    "# podem posar moltes linees de cop\n",
    "# fent servir cat...i les redireccions > < \n",
    "cat > test/zz.txt << EOF\n",
    "\"Hi havia una vegada, en una contrada molt llunyana, una petita cabana a prop d'un gran bosc de roures, castanyers i faigs.\n",
    "Era una construcció un xic especial, perquè si bé desde fora podia semblar una cabana petita feta amb branquillons i molsa, \n",
    "on amb prou feines podia encabir-hi un nen petit, un cop entraves, era grandiosa i acollidora. Tenia parets de pedra, mobles de fusta i una gran llar de foc. \n",
    "Es tractava, com ja heu endevinat, d'una cabana màgica.\"\n",
    "EOF\n",
    "cat test/zz.txt"
   ]
  },
  {
   "cell_type": "code",
   "execution_count": 44,
   "metadata": {},
   "outputs": [
    {
     "name": "stdout",
     "output_type": "stream",
     "text": [
      "test/zz.txt: UTF-8 Unicode text\n",
      "test: directory\n",
      "grafic1.png: PNG image data, 432 x 288, 8-bit/color RGBA, non-interlaced\n"
     ]
    }
   ],
   "source": [
    "# mirem que és un arxiu\n",
    "file test/zz.txt\n",
    "file test\n",
    "file grafic1.png"
   ]
  },
  {
   "cell_type": "code",
   "execution_count": 45,
   "metadata": {},
   "outputs": [
    {
     "name": "stdout",
     "output_type": "stream",
     "text": [
      "\"Hi havia una vegada, en una contrada molt llunyana, una petita \u001b[01;31m\u001b[Kcabana\u001b[m\u001b[K a prop d'un gran bosc de roures, castanyers i faigs.\n",
      "Era una construcció un xic especial, perquè si bé desde fora podia semblar una \u001b[01;31m\u001b[Kcabana\u001b[m\u001b[K petita feta amb branquillons i molsa, \n",
      "Es tractava, com ja heu endevinat, d'una \u001b[01;31m\u001b[Kcabana\u001b[m\u001b[K màgica.\"\n"
     ]
    }
   ],
   "source": [
    "# busquem text dins d'un arxiu de text\n",
    "grep cabana test/zz.txt"
   ]
  },
  {
   "cell_type": "code",
   "execution_count": 52,
   "metadata": {},
   "outputs": [
    {
     "name": "stdout",
     "output_type": "stream",
     "text": [
      "81\n"
     ]
    }
   ],
   "source": [
    "# contem les paraules que hi ha dins amb la comanda wc (word count) \n",
    "# fixem-nos en l'us de | per concatenar la sortida d'una comanda amb l'entrada d'una altra\n",
    "cat test/zz.txt | wc -w "
   ]
  },
  {
   "cell_type": "code",
   "execution_count": 50,
   "metadata": {},
   "outputs": [
    {
     "name": "stdout",
     "output_type": "stream",
     "text": [
      "3\n"
     ]
    }
   ],
   "source": [
    "# si volem comptar cuantes vegades surt\n",
    "grep -c cabana test/zz.txt"
   ]
  },
  {
   "cell_type": "code",
   "execution_count": 51,
   "metadata": {},
   "outputs": [
    {
     "name": "stdout",
     "output_type": "stream",
     "text": [
      "\u001b[32m\u001b[K1\u001b[m\u001b[K\u001b[36m\u001b[K:\u001b[m\u001b[K\"Hi havia una vegada, en una contrada molt llunyana, una petita \u001b[01;31m\u001b[Kcabana\u001b[m\u001b[K a prop d'un gran bosc de roures, castanyers i faigs.\n",
      "\u001b[32m\u001b[K2\u001b[m\u001b[K\u001b[36m\u001b[K:\u001b[m\u001b[KEra una construcció un xic especial, perquè si bé desde fora podia semblar una \u001b[01;31m\u001b[Kcabana\u001b[m\u001b[K petita feta amb branquillons i molsa, \n",
      "\u001b[32m\u001b[K4\u001b[m\u001b[K\u001b[36m\u001b[K:\u001b[m\u001b[KEs tractava, com ja heu endevinat, d'una \u001b[01;31m\u001b[Kcabana\u001b[m\u001b[K màgica.\"\n"
     ]
    }
   ],
   "source": [
    "# si volem veure a quines linees surt la paraula cabana podem fer\n",
    "grep -n \"cabana\" test/zz.txt"
   ]
  },
  {
   "cell_type": "code",
   "execution_count": 53,
   "metadata": {},
   "outputs": [
    {
     "name": "stdout",
     "output_type": "stream",
     "text": [
      "./data.txt\n",
      "./lacasadepapel.txt\n",
      "./test/zz.txt\n"
     ]
    }
   ],
   "source": [
    "# una altra eina útil per cercar fitxers és la comanda find\n",
    "# per exemple, si vull trobar els arxius de texte, amb l'extensio .txt dins del directori i subdirectoris\n",
    "find . -name '*.txt' -print"
   ]
  },
  {
   "cell_type": "code",
   "execution_count": 58,
   "metadata": {},
   "outputs": [
    {
     "name": "stdout",
     "output_type": "stream",
     "text": [
      "./data.txt\n",
      "./lacasadepapel.txt\n"
     ]
    }
   ],
   "source": [
    "# si no vull buscar als subdirectoris\n",
    "find . -maxdepth 1 -name '*.txt' -print"
   ]
  },
  {
   "cell_type": "code",
   "execution_count": 59,
   "metadata": {},
   "outputs": [
    {
     "name": "stdout",
     "output_type": "stream",
     "text": [
      "./test/zz.txt\n"
     ]
    }
   ],
   "source": [
    "# o si volem no buscar al primer nivell i seguir buscant als subdirectoris\n",
    "find . -mindepth 2 -name '*.txt' -print"
   ]
  },
  {
   "cell_type": "code",
   "execution_count": null,
   "metadata": {},
   "outputs": [],
   "source": []
  }
 ],
 "metadata": {
  "kernelspec": {
   "display_name": "Bash",
   "language": "bash",
   "name": "bash"
  },
  "language_info": {
   "codemirror_mode": "shell",
   "file_extension": ".sh",
   "mimetype": "text/x-sh",
   "name": "bash"
  }
 },
 "nbformat": 4,
 "nbformat_minor": 4
}
